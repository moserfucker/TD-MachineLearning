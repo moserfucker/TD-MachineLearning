{
  "nbformat": 4,
  "nbformat_minor": 0,
  "metadata": {
    "colab": {
      "name": "TD_ML_MOSER_MOULINEAU.ipynb",
      "provenance": [],
      "collapsed_sections": []
    },
    "kernelspec": {
      "name": "python3",
      "display_name": "Python 3"
    },
    "language_info": {
      "name": "python"
    }
  },
  "cells": [
    {
      "cell_type": "markdown",
      "metadata": {
        "id": "679BuYhI6luL"
      },
      "source": [
        "## Importation des librairies et chargement des données"
      ]
    },
    {
      "cell_type": "code",
      "metadata": {
        "id": "UIXDruwgzsSN"
      },
      "source": [
        "import numpy as np\n",
        "import matplotlib.pyplot as plt\n",
        "import sklearn\n",
        "import pandas as pd\n",
        "import seaborn as sns "
      ],
      "execution_count": null,
      "outputs": []
    },
    {
      "cell_type": "code",
      "metadata": {
        "id": "IaASD0kV0QQ7"
      },
      "source": [
        "import pandas as pd\n",
        "\n",
        "url_train = \"https://raw.githubusercontent.com/RTheophile/td_ml_ynov/main/data/train.csv\"\n",
        "url_test = \"https://raw.githubusercontent.com/RTheophile/td_ml_ynov/main/data/test.csv\"\n",
        "\n",
        "df_train = pd.read_csv(url_train, sep=',', decimal='.' )\n",
        "df_test = pd.read_csv(url_test, sep=',', decimal='.' )\n"
      ],
      "execution_count": null,
      "outputs": []
    },
    {
      "cell_type": "markdown",
      "metadata": {
        "id": "snBd9YlJ6wIZ"
      },
      "source": [
        "## Préprocessing"
      ]
    },
    {
      "cell_type": "code",
      "metadata": {
        "colab": {
          "base_uri": "https://localhost:8080/",
          "height": 383
        },
        "id": "t9VOVxX50Qxu",
        "outputId": "1736e6b2-0943-40ec-db25-2d9db3f2b4b6"
      },
      "source": [
        "# Découverte du jeu de données en affichant les 10 premières lignes \n",
        "df_train.head(10)"
      ],
      "execution_count": null,
      "outputs": [
        {
          "output_type": "execute_result",
          "data": {
            "text/html": [
              "<div>\n",
              "<style scoped>\n",
              "    .dataframe tbody tr th:only-of-type {\n",
              "        vertical-align: middle;\n",
              "    }\n",
              "\n",
              "    .dataframe tbody tr th {\n",
              "        vertical-align: top;\n",
              "    }\n",
              "\n",
              "    .dataframe thead th {\n",
              "        text-align: right;\n",
              "    }\n",
              "</style>\n",
              "<table border=\"1\" class=\"dataframe\">\n",
              "  <thead>\n",
              "    <tr style=\"text-align: right;\">\n",
              "      <th></th>\n",
              "      <th>music_id</th>\n",
              "      <th>chroma_0_mean</th>\n",
              "      <th>chroma_0_std</th>\n",
              "      <th>chroma_10_mean</th>\n",
              "      <th>chroma_10_std</th>\n",
              "      <th>chroma_11_mean</th>\n",
              "      <th>chroma_11_std</th>\n",
              "      <th>chroma_1_mean</th>\n",
              "      <th>chroma_1_std</th>\n",
              "      <th>chroma_2_mean</th>\n",
              "      <th>chroma_2_std</th>\n",
              "      <th>chroma_3_mean</th>\n",
              "      <th>chroma_3_std</th>\n",
              "      <th>chroma_4_mean</th>\n",
              "      <th>chroma_4_std</th>\n",
              "      <th>chroma_5_mean</th>\n",
              "      <th>chroma_5_std</th>\n",
              "      <th>chroma_6_mean</th>\n",
              "      <th>chroma_6_std</th>\n",
              "      <th>chroma_7_mean</th>\n",
              "      <th>chroma_7_std</th>\n",
              "      <th>chroma_8_mean</th>\n",
              "      <th>chroma_8_std</th>\n",
              "      <th>chroma_9_mean</th>\n",
              "      <th>chroma_9_std</th>\n",
              "      <th>chroma_centroid_mean</th>\n",
              "      <th>chroma_flux_mean</th>\n",
              "      <th>chroma_max</th>\n",
              "      <th>chroma_min</th>\n",
              "      <th>chroma_spread_mean</th>\n",
              "      <th>mfcc_10_mean</th>\n",
              "      <th>mfcc_10_std</th>\n",
              "      <th>mfcc_11_mean</th>\n",
              "      <th>mfcc_11_std</th>\n",
              "      <th>mfcc_12_mean</th>\n",
              "      <th>mfcc_12_std</th>\n",
              "      <th>mfcc_13_mean</th>\n",
              "      <th>mfcc_13_std</th>\n",
              "      <th>mfcc_2_mean</th>\n",
              "      <th>mfcc_2_std</th>\n",
              "      <th>mfcc_3_mean</th>\n",
              "      <th>mfcc_3_std</th>\n",
              "      <th>mfcc_4_mean</th>\n",
              "      <th>mfcc_4_std</th>\n",
              "      <th>mfcc_5_mean</th>\n",
              "      <th>mfcc_5_std</th>\n",
              "      <th>mfcc_6_mean</th>\n",
              "      <th>mfcc_6_std</th>\n",
              "      <th>mfcc_7_mean</th>\n",
              "      <th>mfcc_7_std</th>\n",
              "      <th>mfcc_8_mean</th>\n",
              "      <th>mfcc_8_std</th>\n",
              "      <th>mfcc_9_mean</th>\n",
              "      <th>mfcc_9_std</th>\n",
              "      <th>onset_rate</th>\n",
              "      <th>spectral_centroid_mean</th>\n",
              "      <th>spectral_decrease_mean</th>\n",
              "      <th>spectral_flux_mean</th>\n",
              "      <th>spectral_rolloff_mean</th>\n",
              "      <th>spectral_spread_mean</th>\n",
              "      <th>zcr_mean</th>\n",
              "      <th>zcr_std</th>\n",
              "      <th>category</th>\n",
              "    </tr>\n",
              "  </thead>\n",
              "  <tbody>\n",
              "    <tr>\n",
              "      <th>0</th>\n",
              "      <td>0</td>\n",
              "      <td>866.507629</td>\n",
              "      <td>1585.437134</td>\n",
              "      <td>415.300842</td>\n",
              "      <td>710.790771</td>\n",
              "      <td>683.865845</td>\n",
              "      <td>1011.552856</td>\n",
              "      <td>473.484100</td>\n",
              "      <td>744.247925</td>\n",
              "      <td>304.914825</td>\n",
              "      <td>363.313141</td>\n",
              "      <td>332.242950</td>\n",
              "      <td>495.701813</td>\n",
              "      <td>312.017944</td>\n",
              "      <td>441.582794</td>\n",
              "      <td>309.633270</td>\n",
              "      <td>618.010193</td>\n",
              "      <td>471.462738</td>\n",
              "      <td>809.607849</td>\n",
              "      <td>755.778870</td>\n",
              "      <td>1522.247559</td>\n",
              "      <td>501.252075</td>\n",
              "      <td>1400.412354</td>\n",
              "      <td>402.114380</td>\n",
              "      <td>1302.272095</td>\n",
              "      <td>5.339493</td>\n",
              "      <td>1475.534790</td>\n",
              "      <td>20956.414062</td>\n",
              "      <td>3.068383</td>\n",
              "      <td>11.477202</td>\n",
              "      <td>-0.525435</td>\n",
              "      <td>0.575163</td>\n",
              "      <td>-0.079708</td>\n",
              "      <td>0.545337</td>\n",
              "      <td>0.242505</td>\n",
              "      <td>0.666833</td>\n",
              "      <td>-0.077199</td>\n",
              "      <td>0.523446</td>\n",
              "      <td>0.475172</td>\n",
              "      <td>1.139485</td>\n",
              "      <td>0.233085</td>\n",
              "      <td>1.578942</td>\n",
              "      <td>0.447061</td>\n",
              "      <td>1.009801</td>\n",
              "      <td>2.449972</td>\n",
              "      <td>1.163223</td>\n",
              "      <td>0.197224</td>\n",
              "      <td>0.726277</td>\n",
              "      <td>0.512699</td>\n",
              "      <td>0.585949</td>\n",
              "      <td>-0.010838</td>\n",
              "      <td>0.638230</td>\n",
              "      <td>0.156972</td>\n",
              "      <td>0.647313</td>\n",
              "      <td>3.631719</td>\n",
              "      <td>27.621587</td>\n",
              "      <td>-0.186330</td>\n",
              "      <td>1.962404</td>\n",
              "      <td>1525.877193</td>\n",
              "      <td>1579.021838</td>\n",
              "      <td>190.907164</td>\n",
              "      <td>149.482276</td>\n",
              "      <td>1</td>\n",
              "    </tr>\n",
              "    <tr>\n",
              "      <th>1</th>\n",
              "      <td>1</td>\n",
              "      <td>832.956909</td>\n",
              "      <td>2140.568115</td>\n",
              "      <td>287.584564</td>\n",
              "      <td>281.795380</td>\n",
              "      <td>405.467224</td>\n",
              "      <td>754.076904</td>\n",
              "      <td>1061.359863</td>\n",
              "      <td>2263.894531</td>\n",
              "      <td>2502.509033</td>\n",
              "      <td>6418.287109</td>\n",
              "      <td>1511.616821</td>\n",
              "      <td>3109.064209</td>\n",
              "      <td>1199.946289</td>\n",
              "      <td>2618.626953</td>\n",
              "      <td>653.007812</td>\n",
              "      <td>1048.274902</td>\n",
              "      <td>416.184937</td>\n",
              "      <td>628.753235</td>\n",
              "      <td>421.898773</td>\n",
              "      <td>1001.003784</td>\n",
              "      <td>395.224396</td>\n",
              "      <td>711.315369</td>\n",
              "      <td>462.371216</td>\n",
              "      <td>760.764343</td>\n",
              "      <td>4.913901</td>\n",
              "      <td>2480.159668</td>\n",
              "      <td>28161.671875</td>\n",
              "      <td>1.292808</td>\n",
              "      <td>6.465735</td>\n",
              "      <td>-0.065183</td>\n",
              "      <td>0.575794</td>\n",
              "      <td>0.207679</td>\n",
              "      <td>0.615899</td>\n",
              "      <td>0.089987</td>\n",
              "      <td>0.750274</td>\n",
              "      <td>0.448575</td>\n",
              "      <td>0.641309</td>\n",
              "      <td>0.160724</td>\n",
              "      <td>1.157852</td>\n",
              "      <td>0.089591</td>\n",
              "      <td>0.879492</td>\n",
              "      <td>0.317067</td>\n",
              "      <td>0.897643</td>\n",
              "      <td>2.001377</td>\n",
              "      <td>0.653011</td>\n",
              "      <td>NaN</td>\n",
              "      <td>0.851986</td>\n",
              "      <td>0.112410</td>\n",
              "      <td>0.653063</td>\n",
              "      <td>0.223518</td>\n",
              "      <td>0.627313</td>\n",
              "      <td>-0.515713</td>\n",
              "      <td>0.575588</td>\n",
              "      <td>6.230564</td>\n",
              "      <td>38.780628</td>\n",
              "      <td>-0.013198</td>\n",
              "      <td>2.139456</td>\n",
              "      <td>1740.789474</td>\n",
              "      <td>1941.791036</td>\n",
              "      <td>257.913214</td>\n",
              "      <td>171.257592</td>\n",
              "      <td>3</td>\n",
              "    </tr>\n",
              "    <tr>\n",
              "      <th>2</th>\n",
              "      <td>2</td>\n",
              "      <td>331.544586</td>\n",
              "      <td>553.657532</td>\n",
              "      <td>260.467499</td>\n",
              "      <td>327.618225</td>\n",
              "      <td>283.580139</td>\n",
              "      <td>312.385986</td>\n",
              "      <td>204.369690</td>\n",
              "      <td>225.922531</td>\n",
              "      <td>286.470215</td>\n",
              "      <td>396.768219</td>\n",
              "      <td>293.830261</td>\n",
              "      <td>261.392212</td>\n",
              "      <td>443.067322</td>\n",
              "      <td>570.670898</td>\n",
              "      <td>265.855835</td>\n",
              "      <td>339.594543</td>\n",
              "      <td>258.869629</td>\n",
              "      <td>241.156082</td>\n",
              "      <td>524.083435</td>\n",
              "      <td>664.791260</td>\n",
              "      <td>279.469452</td>\n",
              "      <td>273.887482</td>\n",
              "      <td>385.145294</td>\n",
              "      <td>668.300964</td>\n",
              "      <td>5.663275</td>\n",
              "      <td>618.680725</td>\n",
              "      <td>9198.053711</td>\n",
              "      <td>2.820759</td>\n",
              "      <td>9.908858</td>\n",
              "      <td>0.290645</td>\n",
              "      <td>0.813242</td>\n",
              "      <td>0.074028</td>\n",
              "      <td>0.755149</td>\n",
              "      <td>-0.607588</td>\n",
              "      <td>0.825031</td>\n",
              "      <td>0.071684</td>\n",
              "      <td>0.916140</td>\n",
              "      <td>-0.300894</td>\n",
              "      <td>0.734057</td>\n",
              "      <td>0.071280</td>\n",
              "      <td>0.728366</td>\n",
              "      <td>0.636152</td>\n",
              "      <td>0.573851</td>\n",
              "      <td>0.895578</td>\n",
              "      <td>0.647668</td>\n",
              "      <td>0.131983</td>\n",
              "      <td>0.780951</td>\n",
              "      <td>0.128582</td>\n",
              "      <td>0.632040</td>\n",
              "      <td>-0.119467</td>\n",
              "      <td>0.673518</td>\n",
              "      <td>-0.002418</td>\n",
              "      <td>0.837297</td>\n",
              "      <td>4.264771</td>\n",
              "      <td>86.371120</td>\n",
              "      <td>-0.155013</td>\n",
              "      <td>1.336048</td>\n",
              "      <td>5243.859649</td>\n",
              "      <td>15422.032531</td>\n",
              "      <td>508.122337</td>\n",
              "      <td>296.141124</td>\n",
              "      <td>3</td>\n",
              "    </tr>\n",
              "    <tr>\n",
              "      <th>3</th>\n",
              "      <td>3</td>\n",
              "      <td>454.521851</td>\n",
              "      <td>1170.188110</td>\n",
              "      <td>601.021790</td>\n",
              "      <td>1035.021240</td>\n",
              "      <td>721.523865</td>\n",
              "      <td>1861.131836</td>\n",
              "      <td>350.991791</td>\n",
              "      <td>495.942383</td>\n",
              "      <td>432.551971</td>\n",
              "      <td>563.184021</td>\n",
              "      <td>423.724396</td>\n",
              "      <td>614.654785</td>\n",
              "      <td>575.497986</td>\n",
              "      <td>1217.105225</td>\n",
              "      <td>427.940979</td>\n",
              "      <td>740.218872</td>\n",
              "      <td>424.519958</td>\n",
              "      <td>693.202209</td>\n",
              "      <td>475.514801</td>\n",
              "      <td>813.019714</td>\n",
              "      <td>469.719727</td>\n",
              "      <td>833.901611</td>\n",
              "      <td>590.138428</td>\n",
              "      <td>1158.055054</td>\n",
              "      <td>5.748345</td>\n",
              "      <td>1582.920410</td>\n",
              "      <td>25146.167969</td>\n",
              "      <td>6.649645</td>\n",
              "      <td>11.268784</td>\n",
              "      <td>0.099344</td>\n",
              "      <td>0.500206</td>\n",
              "      <td>0.186936</td>\n",
              "      <td>0.539651</td>\n",
              "      <td>-0.138668</td>\n",
              "      <td>0.613281</td>\n",
              "      <td>0.031876</td>\n",
              "      <td>0.533558</td>\n",
              "      <td>0.131419</td>\n",
              "      <td>1.178031</td>\n",
              "      <td>0.046957</td>\n",
              "      <td>1.178486</td>\n",
              "      <td>-0.889902</td>\n",
              "      <td>1.005922</td>\n",
              "      <td>1.706124</td>\n",
              "      <td>0.752769</td>\n",
              "      <td>-0.265338</td>\n",
              "      <td>0.733236</td>\n",
              "      <td>0.962989</td>\n",
              "      <td>0.560574</td>\n",
              "      <td>-0.014520</td>\n",
              "      <td>0.685316</td>\n",
              "      <td>0.257047</td>\n",
              "      <td>0.702976</td>\n",
              "      <td>4.064860</td>\n",
              "      <td>16.844325</td>\n",
              "      <td>-0.287745</td>\n",
              "      <td>2.207420</td>\n",
              "      <td>988.596491</td>\n",
              "      <td>999.051613</td>\n",
              "      <td>144.638374</td>\n",
              "      <td>142.303996</td>\n",
              "      <td>1</td>\n",
              "    </tr>\n",
              "    <tr>\n",
              "      <th>4</th>\n",
              "      <td>4</td>\n",
              "      <td>180.331635</td>\n",
              "      <td>245.818512</td>\n",
              "      <td>388.924744</td>\n",
              "      <td>917.082581</td>\n",
              "      <td>186.856262</td>\n",
              "      <td>192.765305</td>\n",
              "      <td>212.240402</td>\n",
              "      <td>370.108063</td>\n",
              "      <td>170.875610</td>\n",
              "      <td>225.814850</td>\n",
              "      <td>164.083847</td>\n",
              "      <td>214.766113</td>\n",
              "      <td>268.485291</td>\n",
              "      <td>402.826599</td>\n",
              "      <td>236.144547</td>\n",
              "      <td>398.438019</td>\n",
              "      <td>187.471344</td>\n",
              "      <td>290.566986</td>\n",
              "      <td>192.431625</td>\n",
              "      <td>324.297028</td>\n",
              "      <td>226.908310</td>\n",
              "      <td>410.174805</td>\n",
              "      <td>540.996704</td>\n",
              "      <td>1247.210938</td>\n",
              "      <td>5.763199</td>\n",
              "      <td>1106.660278</td>\n",
              "      <td>11508.416992</td>\n",
              "      <td>41.085251</td>\n",
              "      <td>9.236917</td>\n",
              "      <td>0.449522</td>\n",
              "      <td>0.526758</td>\n",
              "      <td>0.011300</td>\n",
              "      <td>0.538857</td>\n",
              "      <td>-0.217203</td>\n",
              "      <td>0.615165</td>\n",
              "      <td>-0.114352</td>\n",
              "      <td>0.517276</td>\n",
              "      <td>-0.157314</td>\n",
              "      <td>1.005643</td>\n",
              "      <td>-0.061574</td>\n",
              "      <td>0.934554</td>\n",
              "      <td>-0.233449</td>\n",
              "      <td>0.845138</td>\n",
              "      <td>1.283606</td>\n",
              "      <td>0.665571</td>\n",
              "      <td>-0.064535</td>\n",
              "      <td>0.724543</td>\n",
              "      <td>0.469437</td>\n",
              "      <td>0.602924</td>\n",
              "      <td>-0.017072</td>\n",
              "      <td>0.574132</td>\n",
              "      <td>0.212848</td>\n",
              "      <td>0.487534</td>\n",
              "      <td>4.164816</td>\n",
              "      <td>5.764473</td>\n",
              "      <td>-0.626706</td>\n",
              "      <td>1.263404</td>\n",
              "      <td>21.491228</td>\n",
              "      <td>735.051431</td>\n",
              "      <td>181.818928</td>\n",
              "      <td>106.604597</td>\n",
              "      <td>1</td>\n",
              "    </tr>\n",
              "    <tr>\n",
              "      <th>5</th>\n",
              "      <td>5</td>\n",
              "      <td>623.636475</td>\n",
              "      <td>1185.141235</td>\n",
              "      <td>356.477631</td>\n",
              "      <td>438.765228</td>\n",
              "      <td>436.773651</td>\n",
              "      <td>584.193237</td>\n",
              "      <td>519.140076</td>\n",
              "      <td>607.874695</td>\n",
              "      <td>886.185425</td>\n",
              "      <td>1343.947998</td>\n",
              "      <td>421.113220</td>\n",
              "      <td>501.045502</td>\n",
              "      <td>348.097046</td>\n",
              "      <td>589.298889</td>\n",
              "      <td>300.385437</td>\n",
              "      <td>350.523315</td>\n",
              "      <td>550.916016</td>\n",
              "      <td>878.343201</td>\n",
              "      <td>912.780945</td>\n",
              "      <td>2016.687500</td>\n",
              "      <td>491.631775</td>\n",
              "      <td>799.651917</td>\n",
              "      <td>565.412476</td>\n",
              "      <td>855.528625</td>\n",
              "      <td>5.233812</td>\n",
              "      <td>1430.184448</td>\n",
              "      <td>36651.761719</td>\n",
              "      <td>0.476443</td>\n",
              "      <td>10.372887</td>\n",
              "      <td>-0.121668</td>\n",
              "      <td>0.635126</td>\n",
              "      <td>-0.128763</td>\n",
              "      <td>0.680836</td>\n",
              "      <td>-0.063558</td>\n",
              "      <td>0.610217</td>\n",
              "      <td>-0.178287</td>\n",
              "      <td>0.613811</td>\n",
              "      <td>-0.173151</td>\n",
              "      <td>0.765720</td>\n",
              "      <td>0.069572</td>\n",
              "      <td>0.613448</td>\n",
              "      <td>-1.237435</td>\n",
              "      <td>0.560877</td>\n",
              "      <td>1.248586</td>\n",
              "      <td>0.592344</td>\n",
              "      <td>-0.051364</td>\n",
              "      <td>0.606939</td>\n",
              "      <td>0.375948</td>\n",
              "      <td>0.578541</td>\n",
              "      <td>-0.406359</td>\n",
              "      <td>0.736854</td>\n",
              "      <td>-0.179700</td>\n",
              "      <td>0.817544</td>\n",
              "      <td>4.731231</td>\n",
              "      <td>33.695191</td>\n",
              "      <td>0.006474</td>\n",
              "      <td>1.644274</td>\n",
              "      <td>1310.964912</td>\n",
              "      <td>753.759663</td>\n",
              "      <td>179.852651</td>\n",
              "      <td>88.762234</td>\n",
              "      <td>0</td>\n",
              "    </tr>\n",
              "    <tr>\n",
              "      <th>6</th>\n",
              "      <td>6</td>\n",
              "      <td>202.341812</td>\n",
              "      <td>289.642334</td>\n",
              "      <td>154.299088</td>\n",
              "      <td>197.096191</td>\n",
              "      <td>175.142578</td>\n",
              "      <td>296.743988</td>\n",
              "      <td>127.823761</td>\n",
              "      <td>150.595825</td>\n",
              "      <td>NaN</td>\n",
              "      <td>348.950867</td>\n",
              "      <td>133.608185</td>\n",
              "      <td>177.705170</td>\n",
              "      <td>135.725296</td>\n",
              "      <td>150.786041</td>\n",
              "      <td>148.882095</td>\n",
              "      <td>160.051285</td>\n",
              "      <td>147.922195</td>\n",
              "      <td>146.480530</td>\n",
              "      <td>189.017685</td>\n",
              "      <td>209.885391</td>\n",
              "      <td>179.215485</td>\n",
              "      <td>200.733200</td>\n",
              "      <td>183.664993</td>\n",
              "      <td>220.026199</td>\n",
              "      <td>5.692751</td>\n",
              "      <td>450.847260</td>\n",
              "      <td>7866.590820</td>\n",
              "      <td>14.543763</td>\n",
              "      <td>11.302124</td>\n",
              "      <td>-0.002393</td>\n",
              "      <td>0.476492</td>\n",
              "      <td>-0.174481</td>\n",
              "      <td>0.542412</td>\n",
              "      <td>-0.006443</td>\n",
              "      <td>0.607704</td>\n",
              "      <td>0.041675</td>\n",
              "      <td>0.632535</td>\n",
              "      <td>-0.162674</td>\n",
              "      <td>0.926109</td>\n",
              "      <td>0.314617</td>\n",
              "      <td>0.531816</td>\n",
              "      <td>-0.698171</td>\n",
              "      <td>0.452228</td>\n",
              "      <td>1.022178</td>\n",
              "      <td>0.375035</td>\n",
              "      <td>0.402968</td>\n",
              "      <td>0.417751</td>\n",
              "      <td>0.550384</td>\n",
              "      <td>0.464843</td>\n",
              "      <td>0.105837</td>\n",
              "      <td>0.487410</td>\n",
              "      <td>0.113059</td>\n",
              "      <td>0.497695</td>\n",
              "      <td>3.298534</td>\n",
              "      <td>7.437169</td>\n",
              "      <td>-0.525607</td>\n",
              "      <td>0.579028</td>\n",
              "      <td>214.912281</td>\n",
              "      <td>544.688458</td>\n",
              "      <td>109.475711</td>\n",
              "      <td>37.981397</td>\n",
              "      <td>3</td>\n",
              "    </tr>\n",
              "    <tr>\n",
              "      <th>7</th>\n",
              "      <td>7</td>\n",
              "      <td>680.875793</td>\n",
              "      <td>521.657593</td>\n",
              "      <td>960.918823</td>\n",
              "      <td>1005.877625</td>\n",
              "      <td>722.886108</td>\n",
              "      <td>571.320068</td>\n",
              "      <td>680.045532</td>\n",
              "      <td>527.399902</td>\n",
              "      <td>1036.099731</td>\n",
              "      <td>730.675171</td>\n",
              "      <td>1575.482422</td>\n",
              "      <td>1210.479614</td>\n",
              "      <td>1142.631470</td>\n",
              "      <td>854.312378</td>\n",
              "      <td>580.781616</td>\n",
              "      <td>433.771027</td>\n",
              "      <td>620.206421</td>\n",
              "      <td>483.088593</td>\n",
              "      <td>616.236877</td>\n",
              "      <td>441.413696</td>\n",
              "      <td>720.309265</td>\n",
              "      <td>534.891846</td>\n",
              "      <td>801.149841</td>\n",
              "      <td>647.485352</td>\n",
              "      <td>5.323256</td>\n",
              "      <td>1547.344727</td>\n",
              "      <td>9749.849609</td>\n",
              "      <td>1.640075</td>\n",
              "      <td>10.613422</td>\n",
              "      <td>0.108253</td>\n",
              "      <td>0.456380</td>\n",
              "      <td>-0.227035</td>\n",
              "      <td>0.502893</td>\n",
              "      <td>-0.023367</td>\n",
              "      <td>0.369279</td>\n",
              "      <td>0.271358</td>\n",
              "      <td>0.448904</td>\n",
              "      <td>-0.026135</td>\n",
              "      <td>NaN</td>\n",
              "      <td>0.074609</td>\n",
              "      <td>0.794216</td>\n",
              "      <td>0.781341</td>\n",
              "      <td>0.647060</td>\n",
              "      <td>1.327321</td>\n",
              "      <td>0.623515</td>\n",
              "      <td>-0.093912</td>\n",
              "      <td>0.572392</td>\n",
              "      <td>-0.093687</td>\n",
              "      <td>0.662563</td>\n",
              "      <td>0.294570</td>\n",
              "      <td>0.535658</td>\n",
              "      <td>0.384367</td>\n",
              "      <td>0.480489</td>\n",
              "      <td>6.996890</td>\n",
              "      <td>34.279457</td>\n",
              "      <td>-0.004662</td>\n",
              "      <td>2.157810</td>\n",
              "      <td>1031.578947</td>\n",
              "      <td>1667.802139</td>\n",
              "      <td>265.440200</td>\n",
              "      <td>119.720858</td>\n",
              "      <td>1</td>\n",
              "    </tr>\n",
              "    <tr>\n",
              "      <th>8</th>\n",
              "      <td>8</td>\n",
              "      <td>256.068146</td>\n",
              "      <td>419.610474</td>\n",
              "      <td>154.441422</td>\n",
              "      <td>241.447266</td>\n",
              "      <td>192.383408</td>\n",
              "      <td>342.736816</td>\n",
              "      <td>191.470200</td>\n",
              "      <td>264.553986</td>\n",
              "      <td>184.699219</td>\n",
              "      <td>299.975769</td>\n",
              "      <td>218.075836</td>\n",
              "      <td>366.936890</td>\n",
              "      <td>323.651184</td>\n",
              "      <td>533.350830</td>\n",
              "      <td>466.106628</td>\n",
              "      <td>761.834412</td>\n",
              "      <td>350.965240</td>\n",
              "      <td>580.939636</td>\n",
              "      <td>274.320190</td>\n",
              "      <td>488.233398</td>\n",
              "      <td>214.007660</td>\n",
              "      <td>409.164948</td>\n",
              "      <td>176.666809</td>\n",
              "      <td>322.365112</td>\n",
              "      <td>5.197120</td>\n",
              "      <td>1039.805054</td>\n",
              "      <td>5265.556152</td>\n",
              "      <td>7.692386</td>\n",
              "      <td>8.904299</td>\n",
              "      <td>0.286249</td>\n",
              "      <td>0.535092</td>\n",
              "      <td>0.101690</td>\n",
              "      <td>0.502324</td>\n",
              "      <td>0.236872</td>\n",
              "      <td>0.541141</td>\n",
              "      <td>0.061972</td>\n",
              "      <td>0.563608</td>\n",
              "      <td>0.244944</td>\n",
              "      <td>1.115820</td>\n",
              "      <td>-0.061479</td>\n",
              "      <td>0.939331</td>\n",
              "      <td>-0.077568</td>\n",
              "      <td>0.730031</td>\n",
              "      <td>0.886355</td>\n",
              "      <td>0.766573</td>\n",
              "      <td>-0.079761</td>\n",
              "      <td>0.629603</td>\n",
              "      <td>0.332233</td>\n",
              "      <td>0.533052</td>\n",
              "      <td>0.132123</td>\n",
              "      <td>0.616916</td>\n",
              "      <td>0.042138</td>\n",
              "      <td>0.486629</td>\n",
              "      <td>4.233308</td>\n",
              "      <td>10.201029</td>\n",
              "      <td>-0.470241</td>\n",
              "      <td>1.461510</td>\n",
              "      <td>537.280702</td>\n",
              "      <td>1069.792914</td>\n",
              "      <td>135.532742</td>\n",
              "      <td>81.179168</td>\n",
              "      <td>2</td>\n",
              "    </tr>\n",
              "    <tr>\n",
              "      <th>9</th>\n",
              "      <td>9</td>\n",
              "      <td>681.930420</td>\n",
              "      <td>1243.771484</td>\n",
              "      <td>637.555603</td>\n",
              "      <td>874.287659</td>\n",
              "      <td>621.384094</td>\n",
              "      <td>916.178772</td>\n",
              "      <td>472.486176</td>\n",
              "      <td>832.650085</td>\n",
              "      <td>394.936432</td>\n",
              "      <td>772.421143</td>\n",
              "      <td>345.763153</td>\n",
              "      <td>464.177490</td>\n",
              "      <td>464.220886</td>\n",
              "      <td>649.436340</td>\n",
              "      <td>467.415894</td>\n",
              "      <td>612.532349</td>\n",
              "      <td>466.316467</td>\n",
              "      <td>610.436707</td>\n",
              "      <td>526.647400</td>\n",
              "      <td>685.857483</td>\n",
              "      <td>723.684570</td>\n",
              "      <td>985.430359</td>\n",
              "      <td>893.219666</td>\n",
              "      <td>1337.139404</td>\n",
              "      <td>5.841007</td>\n",
              "      <td>1685.341187</td>\n",
              "      <td>11033.167969</td>\n",
              "      <td>2.118443</td>\n",
              "      <td>10.379212</td>\n",
              "      <td>-0.098458</td>\n",
              "      <td>0.515122</td>\n",
              "      <td>0.183122</td>\n",
              "      <td>0.490599</td>\n",
              "      <td>-0.041908</td>\n",
              "      <td>0.464458</td>\n",
              "      <td>0.066722</td>\n",
              "      <td>0.481300</td>\n",
              "      <td>-0.018802</td>\n",
              "      <td>0.882304</td>\n",
              "      <td>0.131040</td>\n",
              "      <td>1.202571</td>\n",
              "      <td>-0.527708</td>\n",
              "      <td>0.926002</td>\n",
              "      <td>2.413049</td>\n",
              "      <td>0.633672</td>\n",
              "      <td>0.428749</td>\n",
              "      <td>0.660254</td>\n",
              "      <td>0.565432</td>\n",
              "      <td>0.749337</td>\n",
              "      <td>-0.083488</td>\n",
              "      <td>0.590379</td>\n",
              "      <td>0.273687</td>\n",
              "      <td>0.601287</td>\n",
              "      <td>5.264327</td>\n",
              "      <td>17.964051</td>\n",
              "      <td>0.002828</td>\n",
              "      <td>1.918716</td>\n",
              "      <td>580.263158</td>\n",
              "      <td>358.190976</td>\n",
              "      <td>113.107438</td>\n",
              "      <td>68.767890</td>\n",
              "      <td>1</td>\n",
              "    </tr>\n",
              "  </tbody>\n",
              "</table>\n",
              "</div>"
            ],
            "text/plain": [
              "   music_id  chroma_0_mean  chroma_0_std  ...    zcr_mean     zcr_std  category\n",
              "0         0     866.507629   1585.437134  ...  190.907164  149.482276         1\n",
              "1         1     832.956909   2140.568115  ...  257.913214  171.257592         3\n",
              "2         2     331.544586    553.657532  ...  508.122337  296.141124         3\n",
              "3         3     454.521851   1170.188110  ...  144.638374  142.303996         1\n",
              "4         4     180.331635    245.818512  ...  181.818928  106.604597         1\n",
              "5         5     623.636475   1185.141235  ...  179.852651   88.762234         0\n",
              "6         6     202.341812    289.642334  ...  109.475711   37.981397         3\n",
              "7         7     680.875793    521.657593  ...  265.440200  119.720858         1\n",
              "8         8     256.068146    419.610474  ...  135.532742   81.179168         2\n",
              "9         9     681.930420   1243.771484  ...  113.107438   68.767890         1\n",
              "\n",
              "[10 rows x 63 columns]"
            ]
          },
          "metadata": {
            "tags": []
          },
          "execution_count": 64
        }
      ]
    },
    {
      "cell_type": "code",
      "metadata": {
        "colab": {
          "base_uri": "https://localhost:8080/"
        },
        "id": "JjYgokX_0WYD",
        "outputId": "d7324036-31fa-419e-a71a-ee19bc3dbcaa"
      },
      "source": [
        "df_train.category.value_counts() # On voit que la variable à prédire est répartie de manière équitable dans les données"
      ],
      "execution_count": null,
      "outputs": [
        {
          "output_type": "execute_result",
          "data": {
            "text/plain": [
              "3    80\n",
              "2    80\n",
              "1    80\n",
              "0    80\n",
              "Name: category, dtype: int64"
            ]
          },
          "metadata": {
            "tags": []
          },
          "execution_count": 65
        }
      ]
    },
    {
      "cell_type": "code",
      "metadata": {
        "colab": {
          "base_uri": "https://localhost:8080/"
        },
        "id": "uoCo_gcT0edh",
        "outputId": "a56f0d26-90c1-4b20-fb9f-58de095a1fc2"
      },
      "source": [
        "# On recherche les différentes infos sur les variables, leur type, le nombre de valeurs nulles etc...\n",
        "df_train.info()"
      ],
      "execution_count": null,
      "outputs": [
        {
          "output_type": "stream",
          "text": [
            "<class 'pandas.core.frame.DataFrame'>\n",
            "RangeIndex: 320 entries, 0 to 319\n",
            "Data columns (total 63 columns):\n",
            " #   Column                  Non-Null Count  Dtype  \n",
            "---  ------                  --------------  -----  \n",
            " 0   music_id                320 non-null    int64  \n",
            " 1   chroma_0_mean           317 non-null    float64\n",
            " 2   chroma_0_std            317 non-null    float64\n",
            " 3   chroma_10_mean          317 non-null    float64\n",
            " 4   chroma_10_std           317 non-null    float64\n",
            " 5   chroma_11_mean          318 non-null    float64\n",
            " 6   chroma_11_std           320 non-null    float64\n",
            " 7   chroma_1_mean           318 non-null    float64\n",
            " 8   chroma_1_std            319 non-null    float64\n",
            " 9   chroma_2_mean           316 non-null    float64\n",
            " 10  chroma_2_std            317 non-null    float64\n",
            " 11  chroma_3_mean           318 non-null    float64\n",
            " 12  chroma_3_std            313 non-null    float64\n",
            " 13  chroma_4_mean           316 non-null    float64\n",
            " 14  chroma_4_std            316 non-null    float64\n",
            " 15  chroma_5_mean           319 non-null    float64\n",
            " 16  chroma_5_std            318 non-null    float64\n",
            " 17  chroma_6_mean           318 non-null    float64\n",
            " 18  chroma_6_std            318 non-null    float64\n",
            " 19  chroma_7_mean           318 non-null    float64\n",
            " 20  chroma_7_std            314 non-null    float64\n",
            " 21  chroma_8_mean           318 non-null    float64\n",
            " 22  chroma_8_std            317 non-null    float64\n",
            " 23  chroma_9_mean           316 non-null    float64\n",
            " 24  chroma_9_std            317 non-null    float64\n",
            " 25  chroma_centroid_mean    318 non-null    float64\n",
            " 26  chroma_flux_mean        315 non-null    float64\n",
            " 27  chroma_max              318 non-null    float64\n",
            " 28  chroma_min              313 non-null    float64\n",
            " 29  chroma_spread_mean      318 non-null    float64\n",
            " 30  mfcc_10_mean            317 non-null    float64\n",
            " 31  mfcc_10_std             318 non-null    float64\n",
            " 32  mfcc_11_mean            318 non-null    float64\n",
            " 33  mfcc_11_std             319 non-null    float64\n",
            " 34  mfcc_12_mean            314 non-null    float64\n",
            " 35  mfcc_12_std             316 non-null    float64\n",
            " 36  mfcc_13_mean            319 non-null    float64\n",
            " 37  mfcc_13_std             319 non-null    float64\n",
            " 38  mfcc_2_mean             318 non-null    float64\n",
            " 39  mfcc_2_std              313 non-null    float64\n",
            " 40  mfcc_3_mean             317 non-null    float64\n",
            " 41  mfcc_3_std              314 non-null    float64\n",
            " 42  mfcc_4_mean             316 non-null    float64\n",
            " 43  mfcc_4_std              314 non-null    float64\n",
            " 44  mfcc_5_mean             317 non-null    float64\n",
            " 45  mfcc_5_std              317 non-null    float64\n",
            " 46  mfcc_6_mean             316 non-null    float64\n",
            " 47  mfcc_6_std              319 non-null    float64\n",
            " 48  mfcc_7_mean             317 non-null    float64\n",
            " 49  mfcc_7_std              318 non-null    float64\n",
            " 50  mfcc_8_mean             318 non-null    float64\n",
            " 51  mfcc_8_std              318 non-null    float64\n",
            " 52  mfcc_9_mean             314 non-null    float64\n",
            " 53  mfcc_9_std              317 non-null    float64\n",
            " 54  onset_rate              319 non-null    float64\n",
            " 55  spectral_centroid_mean  318 non-null    float64\n",
            " 56  spectral_decrease_mean  316 non-null    float64\n",
            " 57  spectral_flux_mean      316 non-null    float64\n",
            " 58  spectral_rolloff_mean   320 non-null    float64\n",
            " 59  spectral_spread_mean    316 non-null    float64\n",
            " 60  zcr_mean                316 non-null    float64\n",
            " 61  zcr_std                 317 non-null    float64\n",
            " 62  category                320 non-null    int64  \n",
            "dtypes: float64(61), int64(2)\n",
            "memory usage: 157.6 KB\n"
          ],
          "name": "stdout"
        }
      ]
    },
    {
      "cell_type": "code",
      "metadata": {
        "colab": {
          "base_uri": "https://localhost:8080/"
        },
        "id": "HHvZP_ws0hJc",
        "outputId": "51aedc9e-0220-482e-fe81-98fb5ae3c958"
      },
      "source": [
        "df_train.shape\n",
        "# On voit ici que le fichier train comporte 320 lignes pour 63 colonnes \n",
        "# Il va sans doute falloir diminuer le nombre de variables pour la suite du projet, surtout vu le peu de lignes que comporte le dataset"
      ],
      "execution_count": null,
      "outputs": [
        {
          "output_type": "execute_result",
          "data": {
            "text/plain": [
              "(320, 63)"
            ]
          },
          "metadata": {
            "tags": []
          },
          "execution_count": 67
        }
      ]
    },
    {
      "cell_type": "code",
      "metadata": {
        "id": "mzWh0prM04cd"
      },
      "source": [
        "# Mais avant d'aller plus loin, on a pu voir précédemment qu'il y avait quelques valeurs nulles dans le dataset\n",
        "# On les enlève en les remplçant par la moyenne\n",
        "df_train = df_train.fillna(df_train.mean())\n",
        "df_test = df_test.fillna(df_test.mean())"
      ],
      "execution_count": null,
      "outputs": []
    },
    {
      "cell_type": "code",
      "metadata": {
        "colab": {
          "base_uri": "https://localhost:8080/"
        },
        "id": "wfPb1KJV07qZ",
        "outputId": "c4c34cda-39f7-4009-be80-686d38740a4d"
      },
      "source": [
        "df_train.shape"
      ],
      "execution_count": null,
      "outputs": [
        {
          "output_type": "execute_result",
          "data": {
            "text/plain": [
              "(320, 63)"
            ]
          },
          "metadata": {
            "tags": []
          },
          "execution_count": 69
        }
      ]
    },
    {
      "cell_type": "code",
      "metadata": {
        "id": "P_TLda5w0-Vp"
      },
      "source": [
        "# On supprime également la colonne music_id qui ne sera pas utile à notre modèle\n",
        "df_train.drop('music_id', axis=1, inplace=True)\n",
        "df_test_id = df_test.music_id\n",
        "df_test.drop('music_id', axis=1, inplace=True)"
      ],
      "execution_count": null,
      "outputs": []
    },
    {
      "cell_type": "code",
      "metadata": {
        "colab": {
          "base_uri": "https://localhost:8080/"
        },
        "id": "HNlMIh88FK9n",
        "outputId": "d6128a90-b0bc-4e5f-ccf7-ca1c331c1ca0"
      },
      "source": [
        "df_train.shape"
      ],
      "execution_count": null,
      "outputs": [
        {
          "output_type": "execute_result",
          "data": {
            "text/plain": [
              "(320, 62)"
            ]
          },
          "metadata": {
            "tags": []
          },
          "execution_count": 74
        }
      ]
    },
    {
      "cell_type": "code",
      "metadata": {
        "colab": {
          "base_uri": "https://localhost:8080/"
        },
        "id": "ze7cnjCC1BA5",
        "outputId": "ff81a298-e481-4bbc-f50a-b73b627821a6"
      },
      "source": [
        "# On vérifie ici qu'il n'y a plus de valeurs nulles et que la colonne id a été retirée\n",
        "df_train.isnull().sum().head(60)\n",
        "# on aurait aussi pu refaire la vérification avec :\n",
        "# df_train.info()"
      ],
      "execution_count": null,
      "outputs": [
        {
          "output_type": "execute_result",
          "data": {
            "text/plain": [
              "chroma_0_mean             0\n",
              "chroma_0_std              0\n",
              "chroma_10_mean            0\n",
              "chroma_10_std             0\n",
              "chroma_11_mean            0\n",
              "chroma_11_std             0\n",
              "chroma_1_mean             0\n",
              "chroma_1_std              0\n",
              "chroma_2_mean             0\n",
              "chroma_2_std              0\n",
              "chroma_3_mean             0\n",
              "chroma_3_std              0\n",
              "chroma_4_mean             0\n",
              "chroma_4_std              0\n",
              "chroma_5_mean             0\n",
              "chroma_5_std              0\n",
              "chroma_6_mean             0\n",
              "chroma_6_std              0\n",
              "chroma_7_mean             0\n",
              "chroma_7_std              0\n",
              "chroma_8_mean             0\n",
              "chroma_8_std              0\n",
              "chroma_9_mean             0\n",
              "chroma_9_std              0\n",
              "chroma_centroid_mean      0\n",
              "chroma_flux_mean          0\n",
              "chroma_max                0\n",
              "chroma_min                0\n",
              "chroma_spread_mean        0\n",
              "mfcc_10_mean              0\n",
              "mfcc_10_std               0\n",
              "mfcc_11_mean              0\n",
              "mfcc_11_std               0\n",
              "mfcc_12_mean              0\n",
              "mfcc_12_std               0\n",
              "mfcc_13_mean              0\n",
              "mfcc_13_std               0\n",
              "mfcc_2_mean               0\n",
              "mfcc_2_std                0\n",
              "mfcc_3_mean               0\n",
              "mfcc_3_std                0\n",
              "mfcc_4_mean               0\n",
              "mfcc_4_std                0\n",
              "mfcc_5_mean               0\n",
              "mfcc_5_std                0\n",
              "mfcc_6_mean               0\n",
              "mfcc_6_std                0\n",
              "mfcc_7_mean               0\n",
              "mfcc_7_std                0\n",
              "mfcc_8_mean               0\n",
              "mfcc_8_std                0\n",
              "mfcc_9_mean               0\n",
              "mfcc_9_std                0\n",
              "onset_rate                0\n",
              "spectral_centroid_mean    0\n",
              "spectral_decrease_mean    0\n",
              "spectral_flux_mean        0\n",
              "spectral_rolloff_mean     0\n",
              "spectral_spread_mean      0\n",
              "zcr_mean                  0\n",
              "dtype: int64"
            ]
          },
          "metadata": {
            "tags": []
          },
          "execution_count": 71
        }
      ]
    },
    {
      "cell_type": "markdown",
      "metadata": {
        "id": "3DiZ2ijx64uG"
      },
      "source": [
        "## Normalisation des données"
      ]
    },
    {
      "cell_type": "code",
      "metadata": {
        "colab": {
          "base_uri": "https://localhost:8080/"
        },
        "id": "F-ldDQJe1ULg",
        "outputId": "e4e62ea1-06fd-4527-b37a-64b7ca23b138"
      },
      "source": [
        "# On applique un scaler aux données afin de faciliter la convergence du classificateur\n",
        "from sklearn import preprocessing\n",
        "\n",
        "scaler_train = preprocessing.StandardScaler().fit(df_train)\n",
        "x_train_scaled = scaler_train.transform(df_train)\n",
        "\n",
        "scaler_test = preprocessing.StandardScaler().fit(df_test)\n",
        "x_test_scaled = scaler_test.transform(df_test)\n",
        "\n",
        "x_train_scaled # Visualisation des données après le preprocessing"
      ],
      "execution_count": null,
      "outputs": [
        {
          "output_type": "execute_result",
          "data": {
            "text/plain": [
              "array([[ 1.3464954 ,  1.68633748, -0.09187765, ..., -0.01077823,\n",
              "         0.63976297, -0.4472136 ],\n",
              "       [ 1.23502811,  2.77756186, -0.54105494, ...,  0.61540494,\n",
              "         1.04937978,  1.34164079],\n",
              "       [-0.43083995, -0.34183801, -0.63642547, ...,  2.95365265,\n",
              "         3.39857151,  1.34164079],\n",
              "       ...,\n",
              "       [-0.43653391, -0.49425678,  0.16533907, ..., -0.52767434,\n",
              "        -0.49300181, -0.4472136 ],\n",
              "       [-0.03997939, -0.68689412,  0.05282813, ..., -0.26910743,\n",
              "        -0.87871633, -0.4472136 ],\n",
              "       [ 1.61147343,  0.88283711,  1.40232284, ...,  1.46959032,\n",
              "         1.89139651,  0.4472136 ]])"
            ]
          },
          "metadata": {
            "tags": []
          },
          "execution_count": 76
        }
      ]
    },
    {
      "cell_type": "markdown",
      "metadata": {
        "id": "_upJSBZI7Cqr"
      },
      "source": [
        "## Réduction dimensionnelle"
      ]
    },
    {
      "cell_type": "code",
      "metadata": {
        "id": "ATnsQmRg1bOG"
      },
      "source": [
        "# Comme nous avons vu précédemment, le jeu de données possède beaucoup (trop) de variables\n",
        "# Nous allons appliquer une ACP afin de voir quelles variables explicatives nous pouvons garder\n",
        "from sklearn.decomposition import PCA"
      ],
      "execution_count": null,
      "outputs": []
    },
    {
      "cell_type": "code",
      "metadata": {
        "colab": {
          "base_uri": "https://localhost:8080/"
        },
        "id": "Eh5LySif1gx_",
        "outputId": "95561ec5-cbca-4ee6-c435-4e750856aca7"
      },
      "source": [
        "pc = PCA(n_components=20)\n",
        "pc = pc.fit(x_train_scaled)\n",
        "\n",
        "print(pc.explained_variance_)\n",
        "print(pc.explained_variance_ratio_) "
      ],
      "execution_count": null,
      "outputs": [
        {
          "output_type": "stream",
          "text": [
            "[15.54433462  9.04574289  4.13999441  3.6671216   3.24899881  2.82795352\n",
            "  2.03753881  1.75738989  1.44148902  1.25761498  1.19006493  1.12750571\n",
            "  1.05241129  1.0217599   0.95607228  0.88179233  0.84575858  0.78017216\n",
            "  0.69791971  0.64440351]\n",
            "[0.24993159 0.14544314 0.06656543 0.05896229 0.05223945 0.04546962\n",
            " 0.03276083 0.02825642 0.02317717 0.02022072 0.01913461 0.01812875\n",
            " 0.01692133 0.0164285  0.01537233 0.01417801 0.01359864 0.0125441\n",
            " 0.01122159 0.01036112]\n"
          ],
          "name": "stdout"
        }
      ]
    },
    {
      "cell_type": "code",
      "metadata": {
        "colab": {
          "base_uri": "https://localhost:8080/",
          "height": 677
        },
        "id": "rLT3ak0O1jPf",
        "outputId": "87ffe5ab-e178-4dca-e04e-c30ca0f4ee36"
      },
      "source": [
        "eig = pd.DataFrame(\n",
        "    {\n",
        "        \"Dimension\" : [\"Dim\" + str(x + 1) for x in range(20)], \n",
        "        \"Valeur propre\" : pc.explained_variance_,\n",
        "        \"% variance expliquée\" : np.round(pc.explained_variance_ratio_ * 100),\n",
        "        \"% cum. var. expliquée\" : np.round(np.cumsum(pc.explained_variance_ratio_) * 100)\n",
        "    },\n",
        "    columns = [\"Dimension\", \"Valeur propre\", \"% variance expliquée\", \"% cum. var. expliquée\"]\n",
        ")\n",
        "eig"
      ],
      "execution_count": null,
      "outputs": [
        {
          "output_type": "execute_result",
          "data": {
            "text/html": [
              "<div>\n",
              "<style scoped>\n",
              "    .dataframe tbody tr th:only-of-type {\n",
              "        vertical-align: middle;\n",
              "    }\n",
              "\n",
              "    .dataframe tbody tr th {\n",
              "        vertical-align: top;\n",
              "    }\n",
              "\n",
              "    .dataframe thead th {\n",
              "        text-align: right;\n",
              "    }\n",
              "</style>\n",
              "<table border=\"1\" class=\"dataframe\">\n",
              "  <thead>\n",
              "    <tr style=\"text-align: right;\">\n",
              "      <th></th>\n",
              "      <th>Dimension</th>\n",
              "      <th>Valeur propre</th>\n",
              "      <th>% variance expliquée</th>\n",
              "      <th>% cum. var. expliquée</th>\n",
              "    </tr>\n",
              "  </thead>\n",
              "  <tbody>\n",
              "    <tr>\n",
              "      <th>0</th>\n",
              "      <td>Dim1</td>\n",
              "      <td>15.544335</td>\n",
              "      <td>25.0</td>\n",
              "      <td>25.0</td>\n",
              "    </tr>\n",
              "    <tr>\n",
              "      <th>1</th>\n",
              "      <td>Dim2</td>\n",
              "      <td>9.045743</td>\n",
              "      <td>15.0</td>\n",
              "      <td>40.0</td>\n",
              "    </tr>\n",
              "    <tr>\n",
              "      <th>2</th>\n",
              "      <td>Dim3</td>\n",
              "      <td>4.139994</td>\n",
              "      <td>7.0</td>\n",
              "      <td>46.0</td>\n",
              "    </tr>\n",
              "    <tr>\n",
              "      <th>3</th>\n",
              "      <td>Dim4</td>\n",
              "      <td>3.667122</td>\n",
              "      <td>6.0</td>\n",
              "      <td>52.0</td>\n",
              "    </tr>\n",
              "    <tr>\n",
              "      <th>4</th>\n",
              "      <td>Dim5</td>\n",
              "      <td>3.248999</td>\n",
              "      <td>5.0</td>\n",
              "      <td>57.0</td>\n",
              "    </tr>\n",
              "    <tr>\n",
              "      <th>5</th>\n",
              "      <td>Dim6</td>\n",
              "      <td>2.827954</td>\n",
              "      <td>5.0</td>\n",
              "      <td>62.0</td>\n",
              "    </tr>\n",
              "    <tr>\n",
              "      <th>6</th>\n",
              "      <td>Dim7</td>\n",
              "      <td>2.037539</td>\n",
              "      <td>3.0</td>\n",
              "      <td>65.0</td>\n",
              "    </tr>\n",
              "    <tr>\n",
              "      <th>7</th>\n",
              "      <td>Dim8</td>\n",
              "      <td>1.757390</td>\n",
              "      <td>3.0</td>\n",
              "      <td>68.0</td>\n",
              "    </tr>\n",
              "    <tr>\n",
              "      <th>8</th>\n",
              "      <td>Dim9</td>\n",
              "      <td>1.441489</td>\n",
              "      <td>2.0</td>\n",
              "      <td>70.0</td>\n",
              "    </tr>\n",
              "    <tr>\n",
              "      <th>9</th>\n",
              "      <td>Dim10</td>\n",
              "      <td>1.257615</td>\n",
              "      <td>2.0</td>\n",
              "      <td>72.0</td>\n",
              "    </tr>\n",
              "    <tr>\n",
              "      <th>10</th>\n",
              "      <td>Dim11</td>\n",
              "      <td>1.190065</td>\n",
              "      <td>2.0</td>\n",
              "      <td>74.0</td>\n",
              "    </tr>\n",
              "    <tr>\n",
              "      <th>11</th>\n",
              "      <td>Dim12</td>\n",
              "      <td>1.127506</td>\n",
              "      <td>2.0</td>\n",
              "      <td>76.0</td>\n",
              "    </tr>\n",
              "    <tr>\n",
              "      <th>12</th>\n",
              "      <td>Dim13</td>\n",
              "      <td>1.052411</td>\n",
              "      <td>2.0</td>\n",
              "      <td>78.0</td>\n",
              "    </tr>\n",
              "    <tr>\n",
              "      <th>13</th>\n",
              "      <td>Dim14</td>\n",
              "      <td>1.021760</td>\n",
              "      <td>2.0</td>\n",
              "      <td>79.0</td>\n",
              "    </tr>\n",
              "    <tr>\n",
              "      <th>14</th>\n",
              "      <td>Dim15</td>\n",
              "      <td>0.956072</td>\n",
              "      <td>2.0</td>\n",
              "      <td>81.0</td>\n",
              "    </tr>\n",
              "    <tr>\n",
              "      <th>15</th>\n",
              "      <td>Dim16</td>\n",
              "      <td>0.881792</td>\n",
              "      <td>1.0</td>\n",
              "      <td>82.0</td>\n",
              "    </tr>\n",
              "    <tr>\n",
              "      <th>16</th>\n",
              "      <td>Dim17</td>\n",
              "      <td>0.845759</td>\n",
              "      <td>1.0</td>\n",
              "      <td>84.0</td>\n",
              "    </tr>\n",
              "    <tr>\n",
              "      <th>17</th>\n",
              "      <td>Dim18</td>\n",
              "      <td>0.780172</td>\n",
              "      <td>1.0</td>\n",
              "      <td>85.0</td>\n",
              "    </tr>\n",
              "    <tr>\n",
              "      <th>18</th>\n",
              "      <td>Dim19</td>\n",
              "      <td>0.697920</td>\n",
              "      <td>1.0</td>\n",
              "      <td>86.0</td>\n",
              "    </tr>\n",
              "    <tr>\n",
              "      <th>19</th>\n",
              "      <td>Dim20</td>\n",
              "      <td>0.644404</td>\n",
              "      <td>1.0</td>\n",
              "      <td>87.0</td>\n",
              "    </tr>\n",
              "  </tbody>\n",
              "</table>\n",
              "</div>"
            ],
            "text/plain": [
              "   Dimension  Valeur propre  % variance expliquée  % cum. var. expliquée\n",
              "0       Dim1      15.544335                  25.0                   25.0\n",
              "1       Dim2       9.045743                  15.0                   40.0\n",
              "2       Dim3       4.139994                   7.0                   46.0\n",
              "3       Dim4       3.667122                   6.0                   52.0\n",
              "4       Dim5       3.248999                   5.0                   57.0\n",
              "5       Dim6       2.827954                   5.0                   62.0\n",
              "6       Dim7       2.037539                   3.0                   65.0\n",
              "7       Dim8       1.757390                   3.0                   68.0\n",
              "8       Dim9       1.441489                   2.0                   70.0\n",
              "9      Dim10       1.257615                   2.0                   72.0\n",
              "10     Dim11       1.190065                   2.0                   74.0\n",
              "11     Dim12       1.127506                   2.0                   76.0\n",
              "12     Dim13       1.052411                   2.0                   78.0\n",
              "13     Dim14       1.021760                   2.0                   79.0\n",
              "14     Dim15       0.956072                   2.0                   81.0\n",
              "15     Dim16       0.881792                   1.0                   82.0\n",
              "16     Dim17       0.845759                   1.0                   84.0\n",
              "17     Dim18       0.780172                   1.0                   85.0\n",
              "18     Dim19       0.697920                   1.0                   86.0\n",
              "19     Dim20       0.644404                   1.0                   87.0"
            ]
          },
          "metadata": {
            "tags": []
          },
          "execution_count": 79
        }
      ]
    },
    {
      "cell_type": "code",
      "metadata": {
        "id": "o7YRltxiDiGs"
      },
      "source": [
        ""
      ],
      "execution_count": null,
      "outputs": []
    },
    {
      "cell_type": "code",
      "metadata": {
        "id": "I5w9hmb81nj6"
      },
      "source": [
        "x_train_PCA = pc.transform(x_train_scaled)\n",
        "x_test_PCA = pc.fit(x_test_scaled)\n",
        "x_test_PCA = pc.transform(x_test_scaled)"
      ],
      "execution_count": null,
      "outputs": []
    },
    {
      "cell_type": "code",
      "metadata": {
        "colab": {
          "base_uri": "https://localhost:8080/"
        },
        "id": "Y5BFd4vT1-kP",
        "outputId": "a9649fcf-e5c1-4381-9c57-f194e4aba85e"
      },
      "source": [
        "x_train_PCA.shape"
      ],
      "execution_count": null,
      "outputs": [
        {
          "output_type": "execute_result",
          "data": {
            "text/plain": [
              "(320, 20)"
            ]
          },
          "metadata": {
            "tags": []
          },
          "execution_count": 84
        }
      ]
    },
    {
      "cell_type": "markdown",
      "metadata": {
        "id": "hSQe7cfA7ZzG"
      },
      "source": [
        "## Tests des différents modèles"
      ]
    },
    {
      "cell_type": "code",
      "metadata": {
        "colab": {
          "base_uri": "https://localhost:8080/"
        },
        "id": "JsvqwR1X2A1e",
        "outputId": "6244a21f-85dd-467c-aa2d-569f07e5987e"
      },
      "source": [
        "from sklearn.model_selection import train_test_split \n",
        "\n",
        "target = df_train['category']\n",
        "\n",
        "# On sépare le jeu de train grâce à train_test_split\n",
        "x_train, x_test, y_train, y_test = train_test_split(x_train_scaled, target, train_size=0.5)\n",
        "print(x_train.shape)\n",
        "print(x_test.shape)\n",
        "print(y_train.shape)\n",
        "print(y_test.shape)"
      ],
      "execution_count": null,
      "outputs": [
        {
          "output_type": "stream",
          "text": [
            "(160, 62)\n",
            "(160, 62)\n",
            "(160,)\n",
            "(160,)\n"
          ],
          "name": "stdout"
        }
      ]
    },
    {
      "cell_type": "markdown",
      "metadata": {
        "id": "BfipFdJ77pIX"
      },
      "source": [
        "### Régression Logistique"
      ]
    },
    {
      "cell_type": "code",
      "metadata": {
        "colab": {
          "base_uri": "https://localhost:8080/",
          "height": 751
        },
        "id": "7mLgirHW2I9t",
        "outputId": "3411c4c5-1c61-4a6d-e8c8-72ebdd8b5efb"
      },
      "source": [
        "# Première approche avec une régression logistique !\n",
        "# Pour ce premier modèle, on envoie tout le jeu de données sans sélectionner les variables\n",
        "\n",
        "from sklearn.linear_model import LogisticRegression \n",
        "from sklearn.metrics import accuracy_score\n",
        "# Reshuffle des sets de train/test\n",
        "x_train, x_test, y_train, y_test = train_test_split(x_train_PCA, target, train_size=0.7)\n",
        "\n",
        "# Afficher l'accuracy pour différentes valeurs de C\n",
        "result = []\n",
        "C_values = [c for c in range(-3,10)]\n",
        "\n",
        "for c in C_values:\n",
        "    clf = LogisticRegression(random_state = 0 , C=10**c) # construction d'un classificateur de Régression logistique\n",
        "    clf.fit(x_train, y_train) # Entrainement du modèle\n",
        "    y_predict = clf.predict(x_test) # Test du modèle\n",
        "    score = accuracy_score(y_predict, y_test) # Evaluation de l'accuracy\n",
        "    result.append(score)\n",
        "\n",
        "plt.plot(list(C_values), result)\n",
        "plt.ylabel('précision')\n",
        "plt.xlabel('C-value')\n",
        "\n",
        "import numpy as np\n",
        "print('best accuracy = ' + str(np.max(result)))\n",
        "print('obtenue à C = ' + str(10**(C_values[np.argmax(result)])))\n"
      ],
      "execution_count": null,
      "outputs": [
        {
          "output_type": "stream",
          "text": [
            "/usr/local/lib/python3.7/dist-packages/sklearn/linear_model/_logistic.py:940: ConvergenceWarning: lbfgs failed to converge (status=1):\n",
            "STOP: TOTAL NO. of ITERATIONS REACHED LIMIT.\n",
            "\n",
            "Increase the number of iterations (max_iter) or scale the data as shown in:\n",
            "    https://scikit-learn.org/stable/modules/preprocessing.html\n",
            "Please also refer to the documentation for alternative solver options:\n",
            "    https://scikit-learn.org/stable/modules/linear_model.html#logistic-regression\n",
            "  extra_warning_msg=_LOGISTIC_SOLVER_CONVERGENCE_MSG)\n",
            "/usr/local/lib/python3.7/dist-packages/sklearn/linear_model/_logistic.py:940: ConvergenceWarning: lbfgs failed to converge (status=1):\n",
            "STOP: TOTAL NO. of ITERATIONS REACHED LIMIT.\n",
            "\n",
            "Increase the number of iterations (max_iter) or scale the data as shown in:\n",
            "    https://scikit-learn.org/stable/modules/preprocessing.html\n",
            "Please also refer to the documentation for alternative solver options:\n",
            "    https://scikit-learn.org/stable/modules/linear_model.html#logistic-regression\n",
            "  extra_warning_msg=_LOGISTIC_SOLVER_CONVERGENCE_MSG)\n",
            "/usr/local/lib/python3.7/dist-packages/sklearn/linear_model/_logistic.py:940: ConvergenceWarning: lbfgs failed to converge (status=1):\n",
            "STOP: TOTAL NO. of ITERATIONS REACHED LIMIT.\n",
            "\n",
            "Increase the number of iterations (max_iter) or scale the data as shown in:\n",
            "    https://scikit-learn.org/stable/modules/preprocessing.html\n",
            "Please also refer to the documentation for alternative solver options:\n",
            "    https://scikit-learn.org/stable/modules/linear_model.html#logistic-regression\n",
            "  extra_warning_msg=_LOGISTIC_SOLVER_CONVERGENCE_MSG)\n"
          ],
          "name": "stderr"
        },
        {
          "output_type": "stream",
          "text": [
            "best accuracy = 0.9270833333333334\n",
            "obtenue à C = 0.1\n"
          ],
          "name": "stdout"
        },
        {
          "output_type": "display_data",
          "data": {
            "image/png": "[encoded data removed]",
            "text/plain": [
              "<Figure size 432x288 with 1 Axes>"
            ]
          },
          "metadata": {
            "tags": [],
            "needs_background": "light"
          }
        }
      ]
    },
    {
      "cell_type": "markdown",
      "metadata": {
        "id": "I4eu8dTL8Lfd"
      },
      "source": [
        "### KNN"
      ]
    },
    {
      "cell_type": "code",
      "metadata": {
        "id": "90tL5IqK2byR",
        "colab": {
          "base_uri": "https://localhost:8080/",
          "height": 315
        },
        "outputId": "ff7f48f6-0916-4144-a961-5685ac8c85ec"
      },
      "source": [
        "# Deuxième approche avec un KNN !\n",
        "# On envoie également tout le jeu de données sans sélectionner les variables\n",
        "\n",
        "from sklearn import neighbors\n",
        "from sklearn.metrics import accuracy_score # Pour évaluer la précision de la prediction\n",
        "\n",
        "x_train, x_test, y_train, y_test = train_test_split(x_train_PCA, target, train_size=0.7, stratify=target)\n",
        "\n",
        "result = []\n",
        "n_values = range(1,30)\n",
        "for n in n_values:\n",
        "    clf = neighbors.KNeighborsClassifier(n_neighbors=n) # Classificateur paramétré sur n-voisins\n",
        "    clf.fit(x_train, y_train)\n",
        "    y_predict = clf.predict(x_test)\n",
        "    score = accuracy_score(y_predict, y_test)\n",
        "    result.append(score)\n",
        "\n",
        "plt.plot(list(n_values), result)\n",
        "plt.ylabel('accuracy')\n",
        "plt.xlabel('nombre de voisins')\n",
        "\n",
        "import numpy as np\n",
        "print('best accuracy = ' + str(np.max(result)))\n",
        "print('obtained at n_value = ' + str(np.argmax(result)))"
      ],
      "execution_count": null,
      "outputs": [
        {
          "output_type": "stream",
          "text": [
            "best accuracy = 0.7916666666666666\n",
            "obtained at n_value = 7\n"
          ],
          "name": "stdout"
        },
        {
          "output_type": "display_data",
          "data": {
            "image/png": "[encoded data removed]",
            "text/plain": [
              "<Figure size 432x288 with 1 Axes>"
            ]
          },
          "metadata": {
            "tags": [],
            "needs_background": "light"
          }
        }
      ]
    },
    {
      "cell_type": "markdown",
      "metadata": {
        "id": "bZo-ueZu8S-9"
      },
      "source": [
        "### Naive Bayes"
      ]
    },
    {
      "cell_type": "code",
      "metadata": {
        "colab": {
          "base_uri": "https://localhost:8080/",
          "height": 297
        },
        "id": "PMQISXHV4Mc3",
        "outputId": "0da2a73e-a95d-47d3-98fe-9de293abf6f6"
      },
      "source": [
        "# Approche Naives Bayes\n",
        "from sklearn.naive_bayes import GaussianNB\n",
        "from sklearn.metrics import plot_confusion_matrix\n",
        "\n",
        "# Train-test split\n",
        "X_train, X_test, y_train, y_test = train_test_split(x_train_PCA, target, test_size=0.7, random_state=0)\n",
        "\n",
        "# Créer, entraîner le modèle, prédire\n",
        "gnb = GaussianNB() # On fait l'hypothèse que la distribution des variables est gaussienne\n",
        "y_pred = gnb.fit(X_train, y_train).predict(X_test) # Paf, entraînement et prédiction en une ligne\n",
        "print(str(X_test.shape[0]) + \" points, dont \" + str((y_test != y_pred).sum()) + ' mal classés')\n",
        "\n",
        "# Matrice de confusion\n",
        "disp = plot_confusion_matrix(gnb, X_test, y_test,display_labels=target, cmap=plt.cm.Blues,normalize = 'true')"
      ],
      "execution_count": null,
      "outputs": [
        {
          "output_type": "stream",
          "text": [
            "224 points, dont 46 mal classés\n"
          ],
          "name": "stdout"
        },
        {
          "output_type": "display_data",
          "data": {
            "image/png": "[encoded data removed]",
            "text/plain": [
              "<Figure size 432x288 with 2 Axes>"
            ]
          },
          "metadata": {
            "tags": [],
            "needs_background": "light"
          }
        }
      ]
    },
    {
      "cell_type": "markdown",
      "metadata": {
        "id": "IOB5nQAD8WWa"
      },
      "source": [
        "### Random Forest"
      ]
    },
    {
      "cell_type": "code",
      "metadata": {
        "id": "G3cGjT1T9mcx"
      },
      "source": [
        "def report(results, n_top=3):\n",
        "    for i in range(1, n_top + 1):\n",
        "        candidates = np.flatnonzero(results['rank_test_score'] == i)\n",
        "        for candidate in candidates:\n",
        "            print(\"Model with rank: {0}\".format(i))\n",
        "            print(\"Mean validation score: {0:.3f} (std: {1:.3f})\"\n",
        "                  .format(results['mean_test_score'][candidate],\n",
        "                          results['std_test_score'][candidate]))\n",
        "            print(\"Parameters: {0}\".format(results['params'][candidate]))\n",
        "            print(\"\")"
      ],
      "execution_count": null,
      "outputs": []
    },
    {
      "cell_type": "code",
      "metadata": {
        "colab": {
          "base_uri": "https://localhost:8080/"
        },
        "id": "eqT-13Gk4s8S",
        "outputId": "7efab46d-afa6-4e44-8719-e32b4c7a29e5"
      },
      "source": [
        "# Dernier modèle tenté : un random forest\n",
        "# pour tester plusieurs hyperparametres, nous allons utiliser un randomizeSearch\n",
        "from sklearn.ensemble import RandomForestClassifier\n",
        "from sklearn.model_selection import RandomizedSearchCV\n",
        "\n",
        "# Train-test split\n",
        "X_train, X_test, y_train, y_test = train_test_split(x_train_PCA, target, test_size=0.7, random_state=0, stratify=target)\n",
        "\n",
        "# Créer, entraîner le modèle, prédire\n",
        "rfc = RandomForestClassifier(random_state=0) \n",
        "\n",
        "parameters = {'max_depth' : [2,3,4,5,6,7] , 'n_estimators' : [100,200,300,400,500,600] }\n",
        "n_iter_search = 20\n",
        "random_search = RandomizedSearchCV(rfc, param_distributions=parameters,\n",
        "                                   n_iter=n_iter_search)\n",
        "\n",
        "random_search.fit(X_train, y_train)\n",
        "report(random_search.cv_results_)\n"
      ],
      "execution_count": null,
      "outputs": [
        {
          "output_type": "stream",
          "text": [
            "Model with rank: 1\n",
            "Mean validation score: 0.824 (std: 0.119)\n",
            "Parameters: {'n_estimators': 600, 'max_depth': 5}\n",
            "\n",
            "Model with rank: 1\n",
            "Mean validation score: 0.824 (std: 0.110)\n",
            "Parameters: {'n_estimators': 600, 'max_depth': 7}\n",
            "\n",
            "Model with rank: 1\n",
            "Mean validation score: 0.824 (std: 0.119)\n",
            "Parameters: {'n_estimators': 500, 'max_depth': 5}\n",
            "\n"
          ],
          "name": "stdout"
        }
      ]
    },
    {
      "cell_type": "markdown",
      "metadata": {
        "id": "Dvr2bJMDBSG1"
      },
      "source": [
        "Les meilleurs résultats sont ceux obtenus avec la régression logistique"
      ]
    },
    {
      "cell_type": "code",
      "metadata": {
        "colab": {
          "base_uri": "https://localhost:8080/"
        },
        "id": "Yjv-054WBPjb",
        "outputId": "51e4cbe1-32f9-4818-b01a-cd9e06e88d2b"
      },
      "source": [
        "x_train, x_test, y_train, y_test = train_test_split(x_train_PCA, target, train_size=0.7)\n",
        "clf = LogisticRegression(random_state = 0 , C=0.1) \n",
        "clf.fit(x_train, y_train) # Entrainement du modèle\n",
        "y_predict = clf.predict(x_test) # Test du modèle\n",
        "score = accuracy_score(y_predict, y_test) # Evaluation de l'accuracy\n",
        "print(score)"
      ],
      "execution_count": null,
      "outputs": [
        {
          "output_type": "stream",
          "text": [
            "0.90625\n"
          ],
          "name": "stdout"
        }
      ]
    },
    {
      "cell_type": "code",
      "metadata": {
        "id": "LrVMbjglHUr8"
      },
      "source": [
        "prediction_output = clf.predict(x_test_PCA)"
      ],
      "execution_count": null,
      "outputs": []
    },
    {
      "cell_type": "code",
      "metadata": {
        "colab": {
          "base_uri": "https://localhost:8080/"
        },
        "id": "6zHOB2LAHnao",
        "outputId": "04dfa2cf-8e11-4e0f-e25a-bcfaca59ec5e"
      },
      "source": [
        "prediction_output"
      ],
      "execution_count": null,
      "outputs": [
        {
          "output_type": "execute_result",
          "data": {
            "text/plain": [
              "array([2, 1, 0, 3, 1, 2, 1, 2, 2, 2, 3, 1, 2, 3, 3, 0, 3, 0, 0, 0, 2, 3,\n",
              "       1, 0, 3, 2, 3, 0, 0, 2, 1, 2, 3, 2, 0, 3, 3, 3, 1, 0, 1, 0, 1, 3,\n",
              "       0, 3, 1, 0, 1, 3, 0, 1, 1, 1, 2, 0, 0, 2, 0, 2, 3, 2, 0, 0, 1, 3,\n",
              "       2, 3, 0, 2, 0, 1, 1, 2, 2, 0, 3, 3, 1, 0])"
            ]
          },
          "metadata": {
            "tags": []
          },
          "execution_count": 97
        }
      ]
    },
    {
      "cell_type": "code",
      "metadata": {
        "id": "RYzJqvIM5Py6"
      },
      "source": [
        "output = pd.DataFrame({'music_id': df_test_id,'category': prediction_output})\n",
        "output.to_csv('Submission.csv', index=False)"
      ],
      "execution_count": null,
      "outputs": []
    },
    {
      "cell_type": "code",
      "metadata": {
        "id": "J2MrPY_KHwQc"
      },
      "source": [
        ""
      ],
      "execution_count": null,
      "outputs": []
    }
  ]
}